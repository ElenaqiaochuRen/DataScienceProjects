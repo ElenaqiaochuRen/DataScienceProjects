{
 "cells": [
  {
   "cell_type": "markdown",
   "id": "9cff58f4",
   "metadata": {},
   "source": [
    "### How to Choose Values of p, d and q? \n",
    "\n",
    "There are various ways to choose the values of parameters of the ARIMA model. Without being confused we can do this using the following steps: \n",
    "\n",
    "Test for stationarity using the augmented dickey fuller test. \n",
    "\n",
    "If the time series is stationary try to fit the **ARMA** model, and if the time series is non-stationary then seek the value of d.\n",
    "\n",
    "If the data is getting stationary, then drraw the autocorrelation and partial autocorrelation graph of the data\n",
    "\n",
    "Draw a partial autocorrelation graph of the data (PACF), this will help us finding the value of p because the cut-off point to the PACF is p.\n",
    "\n",
    "Draw an autocorreltion graph of the data (ACF). This will help us find the value of q because the cut-off point to the ACF is q.\n",
    "\n",
    "\n",
    "\n",
    "Read more at: https://analyticsindiamag.com/ai-mysteries/quick-way-to-find-p-d-and-q-values-for-arima/"
   ]
  },
  {
   "cell_type": "markdown",
   "id": "a18e9f14",
   "metadata": {},
   "source": [
    "### Step 1 Determing whether we need to have d using Augmented Dickey- Fuller test\n",
    "\n",
    "Basically this means we need to determine whether the time series is stationary. Time series are stationary if they do not have trend or seasonal effects."
   ]
  },
  {
   "cell_type": "code",
   "execution_count": null,
   "id": "aa2edb51",
   "metadata": {},
   "outputs": [],
   "source": [
    "from statsmodels.tsa.stattools import adfuller \n",
    "result = adfuller(data['Passengers'])"
   ]
  },
  {
   "cell_type": "markdown",
   "id": "3de889d3",
   "metadata": {},
   "source": [
    "### Step 2 Finding the optimal value of d\n",
    "\n",
    "The value of d is determined based on the number of differencing steps needed to achieve stationarity. Generally, if the data is stationary, the value of d is 0, and if the data is not stationary, the value of d is 1."
   ]
  },
  {
   "cell_type": "code",
   "execution_count": null,
   "id": "d53dc40a",
   "metadata": {},
   "outputs": [],
   "source": [
    "# Taking 1st order differentiating and 2nd order differentiating.\n",
    "ax2.plot(data.Passengers.diff())\n",
    "\n",
    "# second order differencing\n",
    "ax3.plot(data.Passengers.diff().diff())\n",
    "\n",
    "\n",
    "# There is no such method that can tell us how much value of d will be optimal. However, the value of differencing can be optimal till 2 so we will try out time series in both."
   ]
  },
  {
   "cell_type": "markdown",
   "id": "6e6033aa",
   "metadata": {},
   "source": [
    "### Step 3: Finding the value of p parameter using PACF Partial Autocorrelation\n",
    "\n",
    "PACF (Partial Autocorrelation Function): This plot helps determine the p parameter for the AR part of the model. You look for the lag after which most partial autocorrelations are not significantly different from zero."
   ]
  },
  {
   "cell_type": "code",
   "execution_count": null,
   "id": "80798fa6",
   "metadata": {},
   "outputs": [],
   "source": [
    "from statsmodels.graphics.tsaplots import plot_pacf \n",
    "plot_pacf(data.Passengers.diff().dropna())"
   ]
  },
  {
   "cell_type": "markdown",
   "id": "3b0b5863",
   "metadata": {},
   "source": [
    "### Step 4 Finding the value of q parameter using ACF\n",
    "\n",
    "ACF (Autocorrelation Function): This plot helps identify the q parameter for the MA part of the model. You look for the lag after which most autocorrelations are not significantly different from zero. "
   ]
  },
  {
   "cell_type": "code",
   "execution_count": null,
   "id": "6f2c19c2",
   "metadata": {},
   "outputs": [],
   "source": [
    "plot_acf(data.Passengers.diff().dropna())"
   ]
  },
  {
   "cell_type": "markdown",
   "id": "e02f9180",
   "metadata": {},
   "source": [
    "### Step 5 building the model"
   ]
  },
  {
   "cell_type": "code",
   "execution_count": null,
   "id": "526ea4ee",
   "metadata": {},
   "outputs": [],
   "source": [
    "from statsmodels.tsa.arima_model import ARIMA \n",
    "model = ARIMA(data.Passengers, order = (1,1,2)) \n",
    "model_fit = model.fit(disp=0) \n",
    "model_fit.summary()"
   ]
  },
  {
   "cell_type": "markdown",
   "id": "ff4b1576",
   "metadata": {},
   "source": [
    "### Step 6: If you want to build a SARIMA Model"
   ]
  },
  {
   "cell_type": "markdown",
   "id": "3dc932d7",
   "metadata": {},
   "source": [
    "To implement the SARIMA model, we need to follow the same process we followed to implement the ARIMA model. Below are the changes you need to make in your implementation of ARIMA to implement the SARIMA model."
   ]
  },
  {
   "cell_type": "code",
   "execution_count": null,
   "id": "5e58e434",
   "metadata": {},
   "outputs": [],
   "source": [
    "from statsmodels.tsa.statespace.sarimax import SARIMAX"
   ]
  },
  {
   "cell_type": "markdown",
   "id": "27b4293c",
   "metadata": {},
   "source": [
    "Now, to implement SARIMA, change your model from ARIMA to SARIMA and add seasonality parameters as shown in the code below:\n",
    "\n",
    "The value of s in SARIMA represents the seasonal period or the number of time steps in each seasonal cycle. In time series data, seasonality often occurs at regular intervals. For example, in monthly data, the seasonality repeats every 12 months, while in daily data, it may repeat every 7 days (weekly seasonality) or every 30 days (monthly seasonality).\n",
    "\n",
    "In the provided SARIMA example, the value of s is set to 12, indicating that the time series data exhibits seasonality with a repeating pattern every 12-time steps. It typically corresponds to a seasonal cycle of 12 months, suggesting that the data has yearly seasonality."
   ]
  },
  {
   "cell_type": "code",
   "execution_count": null,
   "id": "c3c1b5ed",
   "metadata": {},
   "outputs": [],
   "source": [
    "p, d, q, s = 1, 1, 1, 12\n",
    "\n",
    "\n",
    "model = SARIMAX(time_series, order=(p, d, q), seasonal_order=(p, d, q, s))\n",
    "results = model.fit()\n",
    "print(results.summary())"
   ]
  }
 ],
 "metadata": {
  "kernelspec": {
   "display_name": "Python 3 (ipykernel)",
   "language": "python",
   "name": "python3"
  },
  "language_info": {
   "codemirror_mode": {
    "name": "ipython",
    "version": 3
   },
   "file_extension": ".py",
   "mimetype": "text/x-python",
   "name": "python",
   "nbconvert_exporter": "python",
   "pygments_lexer": "ipython3",
   "version": "3.10.9"
  }
 },
 "nbformat": 4,
 "nbformat_minor": 5
}
